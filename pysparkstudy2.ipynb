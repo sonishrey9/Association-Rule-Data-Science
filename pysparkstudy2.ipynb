{
  "nbformat": 4,
  "nbformat_minor": 0,
  "metadata": {
    "colab": {
      "name": "pysparkstudy2.ipynb",
      "provenance": [],
      "collapsed_sections": [],
      "authorship_tag": "ABX9TyM0HNr5n6qsZ4KTB84jIta5",
      "include_colab_link": true
    },
    "kernelspec": {
      "name": "python3",
      "display_name": "Python 3"
    },
    "language_info": {
      "name": "python"
    }
  },
  "cells": [
    {
      "cell_type": "markdown",
      "metadata": {
        "id": "view-in-github",
        "colab_type": "text"
      },
      "source": [
        "<a href=\"https://colab.research.google.com/github/sonishrey9/Association-Rule-Data-Science/blob/main/pysparkstudy2.ipynb\" target=\"_parent\"><img src=\"https://colab.research.google.com/assets/colab-badge.svg\" alt=\"Open In Colab\"/></a>"
      ]
    },
    {
      "cell_type": "code",
      "metadata": {
        "colab": {
          "base_uri": "https://localhost:8080/"
        },
        "id": "M4TP7EHcY4Xz",
        "outputId": "0af53e1b-6948-450d-8e48-6a3060a0d9df"
      },
      "source": [
        "pip install pyspark"
      ],
      "execution_count": 32,
      "outputs": [
        {
          "output_type": "stream",
          "name": "stdout",
          "text": [
            "Requirement already satisfied: pyspark in /usr/local/lib/python3.7/dist-packages (3.2.0)\n",
            "Requirement already satisfied: py4j==0.10.9.2 in /usr/local/lib/python3.7/dist-packages (from pyspark) (0.10.9.2)\n"
          ]
        }
      ]
    },
    {
      "cell_type": "code",
      "metadata": {
        "id": "BYfJs-CfY-XB"
      },
      "source": [
        "import pyspark\n",
        "from pyspark.sql import SparkSession\n",
        "spark = SparkSession.builder.master(\"local[1]\") \\\n",
        "                    .appName('SparkByExamples.com') \\\n",
        "                    .getOrCreate()"
      ],
      "execution_count": 33,
      "outputs": []
    },
    {
      "cell_type": "code",
      "metadata": {
        "colab": {
          "base_uri": "https://localhost:8080/"
        },
        "id": "FFZdwt1XZTrW",
        "outputId": "dd221922-c1e2-4c70-e7ad-fd0066586238"
      },
      "source": [
        "data = spark.read.csv(r\"/content/SampleSuperstore.csv\",inferSchema=True,header = True)\n",
        "data.show()"
      ],
      "execution_count": 34,
      "outputs": [
        {
          "output_type": "stream",
          "name": "stdout",
          "text": [
            "+--------------+-----------+-------------+---------------+--------------+-----------+-------+---------------+------------+--------+--------+--------+--------+\n",
            "|     Ship Mode|    Segment|      Country|           City|         State|Postal Code| Region|       Category|Sub-Category|   Sales|Quantity|Discount|  Profit|\n",
            "+--------------+-----------+-------------+---------------+--------------+-----------+-------+---------------+------------+--------+--------+--------+--------+\n",
            "|  Second Class|   Consumer|United States|      Henderson|      Kentucky|      42420|  South|      Furniture|   Bookcases|  261.96|       2|     0.0| 41.9136|\n",
            "|  Second Class|   Consumer|United States|      Henderson|      Kentucky|      42420|  South|      Furniture|      Chairs|  731.94|       3|     0.0| 219.582|\n",
            "|  Second Class|  Corporate|United States|    Los Angeles|    California|      90036|   West|Office Supplies|      Labels|   14.62|       2|     0.0|  6.8714|\n",
            "|Standard Class|   Consumer|United States|Fort Lauderdale|       Florida|      33311|  South|      Furniture|      Tables|957.5775|       5|    0.45|-383.031|\n",
            "|Standard Class|   Consumer|United States|Fort Lauderdale|       Florida|      33311|  South|Office Supplies|     Storage|  22.368|       2|     0.2|  2.5164|\n",
            "|Standard Class|   Consumer|United States|    Los Angeles|    California|      90032|   West|      Furniture| Furnishings|   48.86|       7|     0.0| 14.1694|\n",
            "|Standard Class|   Consumer|United States|    Los Angeles|    California|      90032|   West|Office Supplies|         Art|    7.28|       4|     0.0|  1.9656|\n",
            "|Standard Class|   Consumer|United States|    Los Angeles|    California|      90032|   West|     Technology|      Phones| 907.152|       6|     0.2| 90.7152|\n",
            "|Standard Class|   Consumer|United States|    Los Angeles|    California|      90032|   West|Office Supplies|     Binders|  18.504|       3|     0.2|  5.7825|\n",
            "|Standard Class|   Consumer|United States|    Los Angeles|    California|      90032|   West|Office Supplies|  Appliances|   114.9|       5|     0.0|   34.47|\n",
            "|Standard Class|   Consumer|United States|    Los Angeles|    California|      90032|   West|      Furniture|      Tables|1706.184|       9|     0.2| 85.3092|\n",
            "|Standard Class|   Consumer|United States|    Los Angeles|    California|      90032|   West|     Technology|      Phones| 911.424|       4|     0.2| 68.3568|\n",
            "|Standard Class|   Consumer|United States|        Concord|North Carolina|      28027|  South|Office Supplies|       Paper|  15.552|       3|     0.2|  5.4432|\n",
            "|Standard Class|   Consumer|United States|        Seattle|    Washington|      98103|   West|Office Supplies|     Binders| 407.976|       3|     0.2|132.5922|\n",
            "|Standard Class|Home Office|United States|     Fort Worth|         Texas|      76106|Central|Office Supplies|  Appliances|   68.81|       5|     0.8|-123.858|\n",
            "|Standard Class|Home Office|United States|     Fort Worth|         Texas|      76106|Central|Office Supplies|     Binders|   2.544|       3|     0.8|  -3.816|\n",
            "|Standard Class|   Consumer|United States|        Madison|     Wisconsin|      53711|Central|Office Supplies|     Storage|  665.88|       6|     0.0| 13.3176|\n",
            "|  Second Class|   Consumer|United States|    West Jordan|          Utah|      84084|   West|Office Supplies|     Storage|    55.5|       2|     0.0|    9.99|\n",
            "|  Second Class|   Consumer|United States|  San Francisco|    California|      94109|   West|Office Supplies|         Art|    8.56|       2|     0.0|  2.4824|\n",
            "|  Second Class|   Consumer|United States|  San Francisco|    California|      94109|   West|     Technology|      Phones|  213.48|       3|     0.2|  16.011|\n",
            "+--------------+-----------+-------------+---------------+--------------+-----------+-------+---------------+------------+--------+--------+--------+--------+\n",
            "only showing top 20 rows\n",
            "\n"
          ]
        }
      ]
    },
    {
      "cell_type": "code",
      "metadata": {
        "colab": {
          "base_uri": "https://localhost:8080/"
        },
        "id": "6bqJQ9STZ3qr",
        "outputId": "11acb0be-50a2-4fbb-ae06-6c57faa7b751"
      },
      "source": [
        "data.describe()"
      ],
      "execution_count": 35,
      "outputs": [
        {
          "output_type": "execute_result",
          "data": {
            "text/plain": [
              "DataFrame[summary: string, Ship Mode: string, Segment: string, Country: string, City: string, State: string, Postal Code: string, Region: string, Category: string, Sub-Category: string, Sales: string, Quantity: string, Discount: string, Profit: string]"
            ]
          },
          "metadata": {},
          "execution_count": 35
        }
      ]
    },
    {
      "cell_type": "code",
      "metadata": {
        "colab": {
          "base_uri": "https://localhost:8080/"
        },
        "id": "fWp0Kva-alwF",
        "outputId": "afb814bd-16b8-4bcd-ccdb-e742b3309d18"
      },
      "source": [
        "data.columns"
      ],
      "execution_count": 36,
      "outputs": [
        {
          "output_type": "execute_result",
          "data": {
            "text/plain": [
              "['Ship Mode',\n",
              " 'Segment',\n",
              " 'Country',\n",
              " 'City',\n",
              " 'State',\n",
              " 'Postal Code',\n",
              " 'Region',\n",
              " 'Category',\n",
              " 'Sub-Category',\n",
              " 'Sales',\n",
              " 'Quantity',\n",
              " 'Discount',\n",
              " 'Profit']"
            ]
          },
          "metadata": {},
          "execution_count": 36
        }
      ]
    },
    {
      "cell_type": "code",
      "metadata": {
        "colab": {
          "base_uri": "https://localhost:8080/"
        },
        "id": "A6lxHDU_Z_ZK",
        "outputId": "4fd1c753-1beb-4109-fe5b-0776c6ca393f"
      },
      "source": [
        "dict_null = {col: data.filter(data[col].isNull()).count() for col in data.columns}\n",
        "dict_null #to check null values"
      ],
      "execution_count": 37,
      "outputs": [
        {
          "output_type": "execute_result",
          "data": {
            "text/plain": [
              "{'Category': 0,\n",
              " 'City': 0,\n",
              " 'Country': 0,\n",
              " 'Discount': 0,\n",
              " 'Postal Code': 0,\n",
              " 'Profit': 0,\n",
              " 'Quantity': 0,\n",
              " 'Region': 0,\n",
              " 'Sales': 0,\n",
              " 'Segment': 0,\n",
              " 'Ship Mode': 0,\n",
              " 'State': 0,\n",
              " 'Sub-Category': 0}"
            ]
          },
          "metadata": {},
          "execution_count": 37
        }
      ]
    },
    {
      "cell_type": "code",
      "metadata": {
        "colab": {
          "base_uri": "https://localhost:8080/"
        },
        "id": "0oMb8jXqbfEl",
        "outputId": "106dd568-7121-4489-88b9-ad86c9ab110e"
      },
      "source": [
        "data.columns"
      ],
      "execution_count": 38,
      "outputs": [
        {
          "output_type": "execute_result",
          "data": {
            "text/plain": [
              "['Ship Mode',\n",
              " 'Segment',\n",
              " 'Country',\n",
              " 'City',\n",
              " 'State',\n",
              " 'Postal Code',\n",
              " 'Region',\n",
              " 'Category',\n",
              " 'Sub-Category',\n",
              " 'Sales',\n",
              " 'Quantity',\n",
              " 'Discount',\n",
              " 'Profit']"
            ]
          },
          "metadata": {},
          "execution_count": 38
        }
      ]
    },
    {
      "cell_type": "code",
      "metadata": {
        "colab": {
          "base_uri": "https://localhost:8080/"
        },
        "id": "zSae1Z8ZaHnq",
        "outputId": "b6841416-fd5d-4b7c-c438-d35c0f3c2e22"
      },
      "source": [
        "data.select([\n",
        " 'Segment',\n",
        " 'Category',\n",
        " ]).distinct().show() # combinations of distinct values"
      ],
      "execution_count": 39,
      "outputs": [
        {
          "output_type": "stream",
          "name": "stdout",
          "text": [
            "+-----------+---------------+\n",
            "|    Segment|       Category|\n",
            "+-----------+---------------+\n",
            "|Home Office|Office Supplies|\n",
            "|  Corporate|     Technology|\n",
            "|   Consumer|Office Supplies|\n",
            "|Home Office|     Technology|\n",
            "|   Consumer|     Technology|\n",
            "|Home Office|      Furniture|\n",
            "|  Corporate|      Furniture|\n",
            "|   Consumer|      Furniture|\n",
            "|  Corporate|Office Supplies|\n",
            "+-----------+---------------+\n",
            "\n"
          ]
        }
      ]
    },
    {
      "cell_type": "code",
      "metadata": {
        "colab": {
          "base_uri": "https://localhost:8080/"
        },
        "id": "JzRMGxzpbie-",
        "outputId": "d47cea4b-699c-46a4-cd09-f29da503973d"
      },
      "source": [
        "data.printSchema()"
      ],
      "execution_count": 40,
      "outputs": [
        {
          "output_type": "stream",
          "name": "stdout",
          "text": [
            "root\n",
            " |-- Ship Mode: string (nullable = true)\n",
            " |-- Segment: string (nullable = true)\n",
            " |-- Country: string (nullable = true)\n",
            " |-- City: string (nullable = true)\n",
            " |-- State: string (nullable = true)\n",
            " |-- Postal Code: integer (nullable = true)\n",
            " |-- Region: string (nullable = true)\n",
            " |-- Category: string (nullable = true)\n",
            " |-- Sub-Category: string (nullable = true)\n",
            " |-- Sales: double (nullable = true)\n",
            " |-- Quantity: integer (nullable = true)\n",
            " |-- Discount: double (nullable = true)\n",
            " |-- Profit: double (nullable = true)\n",
            "\n"
          ]
        }
      ]
    },
    {
      "cell_type": "code",
      "metadata": {
        "colab": {
          "base_uri": "https://localhost:8080/",
          "height": 614
        },
        "id": "YnZSQ5ZSdCun",
        "outputId": "3c37a0b8-dc11-4e72-ed52-760d189dae65"
      },
      "source": [
        "df = data.toPandas() # to convert dataframe into pandas\n",
        "df"
      ],
      "execution_count": 41,
      "outputs": [
        {
          "output_type": "execute_result",
          "data": {
            "text/html": [
              "<div>\n",
              "<style scoped>\n",
              "    .dataframe tbody tr th:only-of-type {\n",
              "        vertical-align: middle;\n",
              "    }\n",
              "\n",
              "    .dataframe tbody tr th {\n",
              "        vertical-align: top;\n",
              "    }\n",
              "\n",
              "    .dataframe thead th {\n",
              "        text-align: right;\n",
              "    }\n",
              "</style>\n",
              "<table border=\"1\" class=\"dataframe\">\n",
              "  <thead>\n",
              "    <tr style=\"text-align: right;\">\n",
              "      <th></th>\n",
              "      <th>Ship Mode</th>\n",
              "      <th>Segment</th>\n",
              "      <th>Country</th>\n",
              "      <th>City</th>\n",
              "      <th>State</th>\n",
              "      <th>Postal Code</th>\n",
              "      <th>Region</th>\n",
              "      <th>Category</th>\n",
              "      <th>Sub-Category</th>\n",
              "      <th>Sales</th>\n",
              "      <th>Quantity</th>\n",
              "      <th>Discount</th>\n",
              "      <th>Profit</th>\n",
              "    </tr>\n",
              "  </thead>\n",
              "  <tbody>\n",
              "    <tr>\n",
              "      <th>0</th>\n",
              "      <td>Second Class</td>\n",
              "      <td>Consumer</td>\n",
              "      <td>United States</td>\n",
              "      <td>Henderson</td>\n",
              "      <td>Kentucky</td>\n",
              "      <td>42420</td>\n",
              "      <td>South</td>\n",
              "      <td>Furniture</td>\n",
              "      <td>Bookcases</td>\n",
              "      <td>261.9600</td>\n",
              "      <td>2</td>\n",
              "      <td>0.00</td>\n",
              "      <td>41.9136</td>\n",
              "    </tr>\n",
              "    <tr>\n",
              "      <th>1</th>\n",
              "      <td>Second Class</td>\n",
              "      <td>Consumer</td>\n",
              "      <td>United States</td>\n",
              "      <td>Henderson</td>\n",
              "      <td>Kentucky</td>\n",
              "      <td>42420</td>\n",
              "      <td>South</td>\n",
              "      <td>Furniture</td>\n",
              "      <td>Chairs</td>\n",
              "      <td>731.9400</td>\n",
              "      <td>3</td>\n",
              "      <td>0.00</td>\n",
              "      <td>219.5820</td>\n",
              "    </tr>\n",
              "    <tr>\n",
              "      <th>2</th>\n",
              "      <td>Second Class</td>\n",
              "      <td>Corporate</td>\n",
              "      <td>United States</td>\n",
              "      <td>Los Angeles</td>\n",
              "      <td>California</td>\n",
              "      <td>90036</td>\n",
              "      <td>West</td>\n",
              "      <td>Office Supplies</td>\n",
              "      <td>Labels</td>\n",
              "      <td>14.6200</td>\n",
              "      <td>2</td>\n",
              "      <td>0.00</td>\n",
              "      <td>6.8714</td>\n",
              "    </tr>\n",
              "    <tr>\n",
              "      <th>3</th>\n",
              "      <td>Standard Class</td>\n",
              "      <td>Consumer</td>\n",
              "      <td>United States</td>\n",
              "      <td>Fort Lauderdale</td>\n",
              "      <td>Florida</td>\n",
              "      <td>33311</td>\n",
              "      <td>South</td>\n",
              "      <td>Furniture</td>\n",
              "      <td>Tables</td>\n",
              "      <td>957.5775</td>\n",
              "      <td>5</td>\n",
              "      <td>0.45</td>\n",
              "      <td>-383.0310</td>\n",
              "    </tr>\n",
              "    <tr>\n",
              "      <th>4</th>\n",
              "      <td>Standard Class</td>\n",
              "      <td>Consumer</td>\n",
              "      <td>United States</td>\n",
              "      <td>Fort Lauderdale</td>\n",
              "      <td>Florida</td>\n",
              "      <td>33311</td>\n",
              "      <td>South</td>\n",
              "      <td>Office Supplies</td>\n",
              "      <td>Storage</td>\n",
              "      <td>22.3680</td>\n",
              "      <td>2</td>\n",
              "      <td>0.20</td>\n",
              "      <td>2.5164</td>\n",
              "    </tr>\n",
              "    <tr>\n",
              "      <th>...</th>\n",
              "      <td>...</td>\n",
              "      <td>...</td>\n",
              "      <td>...</td>\n",
              "      <td>...</td>\n",
              "      <td>...</td>\n",
              "      <td>...</td>\n",
              "      <td>...</td>\n",
              "      <td>...</td>\n",
              "      <td>...</td>\n",
              "      <td>...</td>\n",
              "      <td>...</td>\n",
              "      <td>...</td>\n",
              "      <td>...</td>\n",
              "    </tr>\n",
              "    <tr>\n",
              "      <th>9989</th>\n",
              "      <td>Second Class</td>\n",
              "      <td>Consumer</td>\n",
              "      <td>United States</td>\n",
              "      <td>Miami</td>\n",
              "      <td>Florida</td>\n",
              "      <td>33180</td>\n",
              "      <td>South</td>\n",
              "      <td>Furniture</td>\n",
              "      <td>Furnishings</td>\n",
              "      <td>25.2480</td>\n",
              "      <td>3</td>\n",
              "      <td>0.20</td>\n",
              "      <td>4.1028</td>\n",
              "    </tr>\n",
              "    <tr>\n",
              "      <th>9990</th>\n",
              "      <td>Standard Class</td>\n",
              "      <td>Consumer</td>\n",
              "      <td>United States</td>\n",
              "      <td>Costa Mesa</td>\n",
              "      <td>California</td>\n",
              "      <td>92627</td>\n",
              "      <td>West</td>\n",
              "      <td>Furniture</td>\n",
              "      <td>Furnishings</td>\n",
              "      <td>91.9600</td>\n",
              "      <td>2</td>\n",
              "      <td>0.00</td>\n",
              "      <td>15.6332</td>\n",
              "    </tr>\n",
              "    <tr>\n",
              "      <th>9991</th>\n",
              "      <td>Standard Class</td>\n",
              "      <td>Consumer</td>\n",
              "      <td>United States</td>\n",
              "      <td>Costa Mesa</td>\n",
              "      <td>California</td>\n",
              "      <td>92627</td>\n",
              "      <td>West</td>\n",
              "      <td>Technology</td>\n",
              "      <td>Phones</td>\n",
              "      <td>258.5760</td>\n",
              "      <td>2</td>\n",
              "      <td>0.20</td>\n",
              "      <td>19.3932</td>\n",
              "    </tr>\n",
              "    <tr>\n",
              "      <th>9992</th>\n",
              "      <td>Standard Class</td>\n",
              "      <td>Consumer</td>\n",
              "      <td>United States</td>\n",
              "      <td>Costa Mesa</td>\n",
              "      <td>California</td>\n",
              "      <td>92627</td>\n",
              "      <td>West</td>\n",
              "      <td>Office Supplies</td>\n",
              "      <td>Paper</td>\n",
              "      <td>29.6000</td>\n",
              "      <td>4</td>\n",
              "      <td>0.00</td>\n",
              "      <td>13.3200</td>\n",
              "    </tr>\n",
              "    <tr>\n",
              "      <th>9993</th>\n",
              "      <td>Second Class</td>\n",
              "      <td>Consumer</td>\n",
              "      <td>United States</td>\n",
              "      <td>Westminster</td>\n",
              "      <td>California</td>\n",
              "      <td>92683</td>\n",
              "      <td>West</td>\n",
              "      <td>Office Supplies</td>\n",
              "      <td>Appliances</td>\n",
              "      <td>243.1600</td>\n",
              "      <td>2</td>\n",
              "      <td>0.00</td>\n",
              "      <td>72.9480</td>\n",
              "    </tr>\n",
              "  </tbody>\n",
              "</table>\n",
              "<p>9994 rows × 13 columns</p>\n",
              "</div>"
            ],
            "text/plain": [
              "           Ship Mode    Segment        Country  ... Quantity Discount    Profit\n",
              "0       Second Class   Consumer  United States  ...        2     0.00   41.9136\n",
              "1       Second Class   Consumer  United States  ...        3     0.00  219.5820\n",
              "2       Second Class  Corporate  United States  ...        2     0.00    6.8714\n",
              "3     Standard Class   Consumer  United States  ...        5     0.45 -383.0310\n",
              "4     Standard Class   Consumer  United States  ...        2     0.20    2.5164\n",
              "...              ...        ...            ...  ...      ...      ...       ...\n",
              "9989    Second Class   Consumer  United States  ...        3     0.20    4.1028\n",
              "9990  Standard Class   Consumer  United States  ...        2     0.00   15.6332\n",
              "9991  Standard Class   Consumer  United States  ...        2     0.20   19.3932\n",
              "9992  Standard Class   Consumer  United States  ...        4     0.00   13.3200\n",
              "9993    Second Class   Consumer  United States  ...        2     0.00   72.9480\n",
              "\n",
              "[9994 rows x 13 columns]"
            ]
          },
          "metadata": {},
          "execution_count": 41
        }
      ]
    },
    {
      "cell_type": "code",
      "metadata": {
        "colab": {
          "base_uri": "https://localhost:8080/"
        },
        "id": "rREl7K46dX7S",
        "outputId": "312faf5f-2ac7-4fc6-cc8a-1bcac86540f5"
      },
      "source": [
        "data.filter(data.Segment == \"Consumer\").show()"
      ],
      "execution_count": 42,
      "outputs": [
        {
          "output_type": "stream",
          "name": "stdout",
          "text": [
            "+--------------+--------+-------------+---------------+--------------+-----------+-------+---------------+------------+--------+--------+--------+--------+\n",
            "|     Ship Mode| Segment|      Country|           City|         State|Postal Code| Region|       Category|Sub-Category|   Sales|Quantity|Discount|  Profit|\n",
            "+--------------+--------+-------------+---------------+--------------+-----------+-------+---------------+------------+--------+--------+--------+--------+\n",
            "|  Second Class|Consumer|United States|      Henderson|      Kentucky|      42420|  South|      Furniture|   Bookcases|  261.96|       2|     0.0| 41.9136|\n",
            "|  Second Class|Consumer|United States|      Henderson|      Kentucky|      42420|  South|      Furniture|      Chairs|  731.94|       3|     0.0| 219.582|\n",
            "|Standard Class|Consumer|United States|Fort Lauderdale|       Florida|      33311|  South|      Furniture|      Tables|957.5775|       5|    0.45|-383.031|\n",
            "|Standard Class|Consumer|United States|Fort Lauderdale|       Florida|      33311|  South|Office Supplies|     Storage|  22.368|       2|     0.2|  2.5164|\n",
            "|Standard Class|Consumer|United States|    Los Angeles|    California|      90032|   West|      Furniture| Furnishings|   48.86|       7|     0.0| 14.1694|\n",
            "|Standard Class|Consumer|United States|    Los Angeles|    California|      90032|   West|Office Supplies|         Art|    7.28|       4|     0.0|  1.9656|\n",
            "|Standard Class|Consumer|United States|    Los Angeles|    California|      90032|   West|     Technology|      Phones| 907.152|       6|     0.2| 90.7152|\n",
            "|Standard Class|Consumer|United States|    Los Angeles|    California|      90032|   West|Office Supplies|     Binders|  18.504|       3|     0.2|  5.7825|\n",
            "|Standard Class|Consumer|United States|    Los Angeles|    California|      90032|   West|Office Supplies|  Appliances|   114.9|       5|     0.0|   34.47|\n",
            "|Standard Class|Consumer|United States|    Los Angeles|    California|      90032|   West|      Furniture|      Tables|1706.184|       9|     0.2| 85.3092|\n",
            "|Standard Class|Consumer|United States|    Los Angeles|    California|      90032|   West|     Technology|      Phones| 911.424|       4|     0.2| 68.3568|\n",
            "|Standard Class|Consumer|United States|        Concord|North Carolina|      28027|  South|Office Supplies|       Paper|  15.552|       3|     0.2|  5.4432|\n",
            "|Standard Class|Consumer|United States|        Seattle|    Washington|      98103|   West|Office Supplies|     Binders| 407.976|       3|     0.2|132.5922|\n",
            "|Standard Class|Consumer|United States|        Madison|     Wisconsin|      53711|Central|Office Supplies|     Storage|  665.88|       6|     0.0| 13.3176|\n",
            "|  Second Class|Consumer|United States|    West Jordan|          Utah|      84084|   West|Office Supplies|     Storage|    55.5|       2|     0.0|    9.99|\n",
            "|  Second Class|Consumer|United States|  San Francisco|    California|      94109|   West|Office Supplies|         Art|    8.56|       2|     0.0|  2.4824|\n",
            "|  Second Class|Consumer|United States|  San Francisco|    California|      94109|   West|     Technology|      Phones|  213.48|       3|     0.2|  16.011|\n",
            "|  Second Class|Consumer|United States|  San Francisco|    California|      94109|   West|Office Supplies|     Binders|   22.72|       4|     0.2|   7.384|\n",
            "|  Second Class|Consumer|United States|   Philadelphia|  Pennsylvania|      19140|   East|      Furniture|      Chairs|  71.372|       2|     0.3| -1.0196|\n",
            "|Standard Class|Consumer|United States|           Orem|          Utah|      84057|   West|      Furniture|      Tables| 1044.63|       3|     0.0|240.2649|\n",
            "+--------------+--------+-------------+---------------+--------------+-----------+-------+---------------+------------+--------+--------+--------+--------+\n",
            "only showing top 20 rows\n",
            "\n"
          ]
        }
      ]
    },
    {
      "cell_type": "code",
      "metadata": {
        "colab": {
          "base_uri": "https://localhost:8080/"
        },
        "id": "MrGMv83_dpPt",
        "outputId": "00748973-af06-4c8e-90c4-efd2b477ef03"
      },
      "source": [
        "data.filter(data.Segment == \"Consumer\").select(['Ship Mode',\n",
        " 'Segment',\n",
        " 'Country',\n",
        " 'City']).show()"
      ],
      "execution_count": 43,
      "outputs": [
        {
          "output_type": "stream",
          "name": "stdout",
          "text": [
            "+--------------+--------+-------------+---------------+\n",
            "|     Ship Mode| Segment|      Country|           City|\n",
            "+--------------+--------+-------------+---------------+\n",
            "|  Second Class|Consumer|United States|      Henderson|\n",
            "|  Second Class|Consumer|United States|      Henderson|\n",
            "|Standard Class|Consumer|United States|Fort Lauderdale|\n",
            "|Standard Class|Consumer|United States|Fort Lauderdale|\n",
            "|Standard Class|Consumer|United States|    Los Angeles|\n",
            "|Standard Class|Consumer|United States|    Los Angeles|\n",
            "|Standard Class|Consumer|United States|    Los Angeles|\n",
            "|Standard Class|Consumer|United States|    Los Angeles|\n",
            "|Standard Class|Consumer|United States|    Los Angeles|\n",
            "|Standard Class|Consumer|United States|    Los Angeles|\n",
            "|Standard Class|Consumer|United States|    Los Angeles|\n",
            "|Standard Class|Consumer|United States|        Concord|\n",
            "|Standard Class|Consumer|United States|        Seattle|\n",
            "|Standard Class|Consumer|United States|        Madison|\n",
            "|  Second Class|Consumer|United States|    West Jordan|\n",
            "|  Second Class|Consumer|United States|  San Francisco|\n",
            "|  Second Class|Consumer|United States|  San Francisco|\n",
            "|  Second Class|Consumer|United States|  San Francisco|\n",
            "|  Second Class|Consumer|United States|   Philadelphia|\n",
            "|Standard Class|Consumer|United States|           Orem|\n",
            "+--------------+--------+-------------+---------------+\n",
            "only showing top 20 rows\n",
            "\n"
          ]
        }
      ]
    },
    {
      "cell_type": "code",
      "metadata": {
        "colab": {
          "base_uri": "https://localhost:8080/"
        },
        "id": "j9yzJYsfdyTO",
        "outputId": "f4840ba0-0d69-40cf-ae8e-a81b2e57fc0b"
      },
      "source": [
        "data.createOrReplaceTempView('pf') # sql command to create spark sql \n",
        "spark.sql('select * from pf').show()"
      ],
      "execution_count": 44,
      "outputs": [
        {
          "output_type": "stream",
          "name": "stdout",
          "text": [
            "+--------------+-----------+-------------+---------------+--------------+-----------+-------+---------------+------------+--------+--------+--------+--------+\n",
            "|     Ship Mode|    Segment|      Country|           City|         State|Postal Code| Region|       Category|Sub-Category|   Sales|Quantity|Discount|  Profit|\n",
            "+--------------+-----------+-------------+---------------+--------------+-----------+-------+---------------+------------+--------+--------+--------+--------+\n",
            "|  Second Class|   Consumer|United States|      Henderson|      Kentucky|      42420|  South|      Furniture|   Bookcases|  261.96|       2|     0.0| 41.9136|\n",
            "|  Second Class|   Consumer|United States|      Henderson|      Kentucky|      42420|  South|      Furniture|      Chairs|  731.94|       3|     0.0| 219.582|\n",
            "|  Second Class|  Corporate|United States|    Los Angeles|    California|      90036|   West|Office Supplies|      Labels|   14.62|       2|     0.0|  6.8714|\n",
            "|Standard Class|   Consumer|United States|Fort Lauderdale|       Florida|      33311|  South|      Furniture|      Tables|957.5775|       5|    0.45|-383.031|\n",
            "|Standard Class|   Consumer|United States|Fort Lauderdale|       Florida|      33311|  South|Office Supplies|     Storage|  22.368|       2|     0.2|  2.5164|\n",
            "|Standard Class|   Consumer|United States|    Los Angeles|    California|      90032|   West|      Furniture| Furnishings|   48.86|       7|     0.0| 14.1694|\n",
            "|Standard Class|   Consumer|United States|    Los Angeles|    California|      90032|   West|Office Supplies|         Art|    7.28|       4|     0.0|  1.9656|\n",
            "|Standard Class|   Consumer|United States|    Los Angeles|    California|      90032|   West|     Technology|      Phones| 907.152|       6|     0.2| 90.7152|\n",
            "|Standard Class|   Consumer|United States|    Los Angeles|    California|      90032|   West|Office Supplies|     Binders|  18.504|       3|     0.2|  5.7825|\n",
            "|Standard Class|   Consumer|United States|    Los Angeles|    California|      90032|   West|Office Supplies|  Appliances|   114.9|       5|     0.0|   34.47|\n",
            "|Standard Class|   Consumer|United States|    Los Angeles|    California|      90032|   West|      Furniture|      Tables|1706.184|       9|     0.2| 85.3092|\n",
            "|Standard Class|   Consumer|United States|    Los Angeles|    California|      90032|   West|     Technology|      Phones| 911.424|       4|     0.2| 68.3568|\n",
            "|Standard Class|   Consumer|United States|        Concord|North Carolina|      28027|  South|Office Supplies|       Paper|  15.552|       3|     0.2|  5.4432|\n",
            "|Standard Class|   Consumer|United States|        Seattle|    Washington|      98103|   West|Office Supplies|     Binders| 407.976|       3|     0.2|132.5922|\n",
            "|Standard Class|Home Office|United States|     Fort Worth|         Texas|      76106|Central|Office Supplies|  Appliances|   68.81|       5|     0.8|-123.858|\n",
            "|Standard Class|Home Office|United States|     Fort Worth|         Texas|      76106|Central|Office Supplies|     Binders|   2.544|       3|     0.8|  -3.816|\n",
            "|Standard Class|   Consumer|United States|        Madison|     Wisconsin|      53711|Central|Office Supplies|     Storage|  665.88|       6|     0.0| 13.3176|\n",
            "|  Second Class|   Consumer|United States|    West Jordan|          Utah|      84084|   West|Office Supplies|     Storage|    55.5|       2|     0.0|    9.99|\n",
            "|  Second Class|   Consumer|United States|  San Francisco|    California|      94109|   West|Office Supplies|         Art|    8.56|       2|     0.0|  2.4824|\n",
            "|  Second Class|   Consumer|United States|  San Francisco|    California|      94109|   West|     Technology|      Phones|  213.48|       3|     0.2|  16.011|\n",
            "+--------------+-----------+-------------+---------------+--------------+-----------+-------+---------------+------------+--------+--------+--------+--------+\n",
            "only showing top 20 rows\n",
            "\n"
          ]
        }
      ]
    },
    {
      "cell_type": "code",
      "metadata": {
        "id": "utoxbhvlfacy"
      },
      "source": [
        "from pyspark.sql.functions import *"
      ],
      "execution_count": 45,
      "outputs": []
    },
    {
      "cell_type": "code",
      "metadata": {
        "colab": {
          "base_uri": "https://localhost:8080/"
        },
        "id": "jNl7MHGpfuVy",
        "outputId": "3f2af345-d134-4c30-8674-b5ca7a0771a7"
      },
      "source": [
        "data.columns"
      ],
      "execution_count": 46,
      "outputs": [
        {
          "output_type": "execute_result",
          "data": {
            "text/plain": [
              "['Ship Mode',\n",
              " 'Segment',\n",
              " 'Country',\n",
              " 'City',\n",
              " 'State',\n",
              " 'Postal Code',\n",
              " 'Region',\n",
              " 'Category',\n",
              " 'Sub-Category',\n",
              " 'Sales',\n",
              " 'Quantity',\n",
              " 'Discount',\n",
              " 'Profit']"
            ]
          },
          "metadata": {},
          "execution_count": 46
        }
      ]
    },
    {
      "cell_type": "code",
      "metadata": {
        "colab": {
          "base_uri": "https://localhost:8080/"
        },
        "id": "sd51nxTyeCxK",
        "outputId": "8f555843-a4d2-4b26-a012-58ac23269410"
      },
      "source": [
        "data.groupby(\"Segment\").agg(max('Profit')).show()"
      ],
      "execution_count": 47,
      "outputs": [
        {
          "output_type": "stream",
          "name": "stdout",
          "text": [
            "+-----------+-----------+\n",
            "|    Segment|max(Profit)|\n",
            "+-----------+-----------+\n",
            "|   Consumer|  6719.9808|\n",
            "|Home Office|  3919.9888|\n",
            "|  Corporate|   8399.976|\n",
            "+-----------+-----------+\n",
            "\n"
          ]
        }
      ]
    },
    {
      "cell_type": "code",
      "metadata": {
        "id": "t8K8FTkNeLEq"
      },
      "source": [
        "dk = data.groupBy([\"Segment\",'Category']).agg(max('Profit'),avg('Profit'))"
      ],
      "execution_count": 48,
      "outputs": []
    },
    {
      "cell_type": "code",
      "metadata": {
        "colab": {
          "base_uri": "https://localhost:8080/"
        },
        "id": "0L962UkYhRuC",
        "outputId": "efeeac7c-fea6-4648-fc66-445808ab7cba"
      },
      "source": [
        "dk.show()"
      ],
      "execution_count": 49,
      "outputs": [
        {
          "output_type": "stream",
          "name": "stdout",
          "text": [
            "+-----------+---------------+-----------+------------------+\n",
            "|    Segment|       Category|max(Profit)|       avg(Profit)|\n",
            "+-----------+---------------+-----------+------------------+\n",
            "|Home Office|Office Supplies|   1906.485|24.034438924930438|\n",
            "|  Corporate|     Technology|   8399.976|  79.7238231046931|\n",
            "|   Consumer|Office Supplies|    4946.37| 18.01417364886475|\n",
            "|Home Office|     Technology|  3919.9888| 89.15245760233913|\n",
            "|   Consumer|     Technology|  6719.9808|  74.4456462670873|\n",
            "|Home Office|      Furniture|   746.4078|10.705465193370161|\n",
            "|  Corporate|      Furniture|   1013.127|11.741200928792571|\n",
            "|   Consumer|      Furniture|    770.352| 6.281292542677445|\n",
            "|  Corporate|Office Supplies|   1906.485|22.102923186813175|\n",
            "+-----------+---------------+-----------+------------------+\n",
            "\n"
          ]
        }
      ]
    },
    {
      "cell_type": "code",
      "metadata": {
        "colab": {
          "base_uri": "https://localhost:8080/"
        },
        "id": "mAOevp79f-E-",
        "outputId": "270a0dde-365e-405c-c34c-cef39e4bfbb2"
      },
      "source": [
        "data.groupBy(\"Segment\").agg(max('Profit'),avg('Profit')).show()"
      ],
      "execution_count": 50,
      "outputs": [
        {
          "output_type": "stream",
          "name": "stdout",
          "text": [
            "+-----------+-----------+------------------+\n",
            "|    Segment|max(Profit)|       avg(Profit)|\n",
            "+-----------+-----------+------------------+\n",
            "|   Consumer|  6719.9808| 25.83687328067804|\n",
            "|Home Office|  3919.9888|33.818664329781306|\n",
            "|  Corporate|   8399.976| 30.45666688741729|\n",
            "+-----------+-----------+------------------+\n",
            "\n"
          ]
        }
      ]
    },
    {
      "cell_type": "code",
      "metadata": {
        "colab": {
          "base_uri": "https://localhost:8080/"
        },
        "id": "iY29mDJ0iXtO",
        "outputId": "16d3c9d1-02a3-4ae2-9df5-d14741ecc06d"
      },
      "source": [
        "df1 = spark.read.csv('/content/2010-12-01.csv', inferSchema = True, header = True)\n",
        "df1.show()"
      ],
      "execution_count": 51,
      "outputs": [
        {
          "output_type": "stream",
          "name": "stdout",
          "text": [
            "+---------+---------+--------------------+--------+-------------------+---------+----------+--------------+\n",
            "|InvoiceNo|StockCode|         Description|Quantity|        InvoiceDate|UnitPrice|CustomerID|       Country|\n",
            "+---------+---------+--------------------+--------+-------------------+---------+----------+--------------+\n",
            "|   536365|   85123A|WHITE HANGING HEA...|       6|2010-12-01 08:26:00|     2.55|   17850.0|United Kingdom|\n",
            "|   536365|    71053| WHITE METAL LANTERN|       6|2010-12-01 08:26:00|     3.39|   17850.0|United Kingdom|\n",
            "|   536365|   84406B|CREAM CUPID HEART...|       8|2010-12-01 08:26:00|     2.75|   17850.0|United Kingdom|\n",
            "|   536365|   84029G|KNITTED UNION FLA...|       6|2010-12-01 08:26:00|     3.39|   17850.0|United Kingdom|\n",
            "|   536365|   84029E|RED WOOLLY HOTTIE...|       6|2010-12-01 08:26:00|     3.39|   17850.0|United Kingdom|\n",
            "|   536365|    22752|SET 7 BABUSHKA NE...|       2|2010-12-01 08:26:00|     7.65|   17850.0|United Kingdom|\n",
            "|   536365|    21730|GLASS STAR FROSTE...|       6|2010-12-01 08:26:00|     4.25|   17850.0|United Kingdom|\n",
            "|   536366|    22633|HAND WARMER UNION...|       6|2010-12-01 08:28:00|     1.85|   17850.0|United Kingdom|\n",
            "|   536366|    22632|HAND WARMER RED P...|       6|2010-12-01 08:28:00|     1.85|   17850.0|United Kingdom|\n",
            "|   536367|    84879|ASSORTED COLOUR B...|      32|2010-12-01 08:34:00|     1.69|   13047.0|United Kingdom|\n",
            "|   536367|    22745|POPPY'S PLAYHOUSE...|       6|2010-12-01 08:34:00|      2.1|   13047.0|United Kingdom|\n",
            "|   536367|    22748|POPPY'S PLAYHOUSE...|       6|2010-12-01 08:34:00|      2.1|   13047.0|United Kingdom|\n",
            "|   536367|    22749|FELTCRAFT PRINCES...|       8|2010-12-01 08:34:00|     3.75|   13047.0|United Kingdom|\n",
            "|   536367|    22310|IVORY KNITTED MUG...|       6|2010-12-01 08:34:00|     1.65|   13047.0|United Kingdom|\n",
            "|   536367|    84969|BOX OF 6 ASSORTED...|       6|2010-12-01 08:34:00|     4.25|   13047.0|United Kingdom|\n",
            "|   536367|    22623|BOX OF VINTAGE JI...|       3|2010-12-01 08:34:00|     4.95|   13047.0|United Kingdom|\n",
            "|   536367|    22622|BOX OF VINTAGE AL...|       2|2010-12-01 08:34:00|     9.95|   13047.0|United Kingdom|\n",
            "|   536367|    21754|HOME BUILDING BLO...|       3|2010-12-01 08:34:00|     5.95|   13047.0|United Kingdom|\n",
            "|   536367|    21755|LOVE BUILDING BLO...|       3|2010-12-01 08:34:00|     5.95|   13047.0|United Kingdom|\n",
            "|   536367|    21777|RECIPE BOX WITH M...|       4|2010-12-01 08:34:00|     7.95|   13047.0|United Kingdom|\n",
            "+---------+---------+--------------------+--------+-------------------+---------+----------+--------------+\n",
            "only showing top 20 rows\n",
            "\n"
          ]
        }
      ]
    },
    {
      "cell_type": "code",
      "metadata": {
        "colab": {
          "base_uri": "https://localhost:8080/"
        },
        "id": "shoYHb7xih-i",
        "outputId": "918537e7-f73a-413e-8fb8-df49d0c74d24"
      },
      "source": [
        "df2 = spark.read.csv('/content/2010-12-02.csv', inferSchema = True, header = True)\n",
        "df2.show()"
      ],
      "execution_count": 52,
      "outputs": [
        {
          "output_type": "stream",
          "name": "stdout",
          "text": [
            "+---------+---------+--------------------+--------+-------------------+---------+----------+--------------+\n",
            "|InvoiceNo|StockCode|         Description|Quantity|        InvoiceDate|UnitPrice|CustomerID|       Country|\n",
            "+---------+---------+--------------------+--------+-------------------+---------+----------+--------------+\n",
            "|   536598|    21421|PORCELAIN ROSE LA...|      12|2010-12-02 07:48:00|     1.25|   13090.0|United Kingdom|\n",
            "|   536598|    21422|PORCELAIN ROSE SMALL|      16|2010-12-02 07:48:00|     0.85|   13090.0|United Kingdom|\n",
            "|   536598|    22178|VICTORIAN GLASS H...|      24|2010-12-02 07:48:00|     1.25|   13090.0|United Kingdom|\n",
            "|   536598|    22617|BAKING SET SPACEB...|      24|2010-12-02 07:48:00|     4.25|   13090.0|United Kingdom|\n",
            "|   536599|    22968|ROSE COTTAGE KEEP...|       8|2010-12-02 07:49:00|      8.5|   15694.0|United Kingdom|\n",
            "|   536599|    22727|ALARM CLOCK BAKEL...|       4|2010-12-02 07:49:00|     3.75|   15694.0|United Kingdom|\n",
            "|   536599|    22726|ALARM CLOCK BAKEL...|      12|2010-12-02 07:49:00|     3.75|   15694.0|United Kingdom|\n",
            "|   536599|    84945|MULTI COLOUR SILV...|      36|2010-12-02 07:49:00|     0.85|   15694.0|United Kingdom|\n",
            "|   536599|    20749|ASSORTED COLOUR M...|      12|2010-12-02 07:49:00|     6.35|   15694.0|United Kingdom|\n",
            "|   536599|    21056|DOCTOR'S BAG SOFT...|       8|2010-12-02 07:49:00|     8.95|   15694.0|United Kingdom|\n",
            "|   536600|   85123A|WHITE HANGING HEA...|       6|2010-12-02 08:32:00|     2.55|   17850.0|United Kingdom|\n",
            "|   536600|    71053| WHITE METAL LANTERN|       6|2010-12-02 08:32:00|     3.39|   17850.0|United Kingdom|\n",
            "|   536600|    82483|WOOD 2 DRAWER CAB...|       4|2010-12-02 08:32:00|     4.95|   17850.0|United Kingdom|\n",
            "|   536600|    82486|WOOD S/3 CABINET ...|       2|2010-12-02 08:32:00|     6.95|   17850.0|United Kingdom|\n",
            "|   536600|    82482|WOODEN PICTURE FR...|       6|2010-12-02 08:32:00|      2.1|   17850.0|United Kingdom|\n",
            "|   536600|   82494L|WOODEN FRAME ANTI...|       6|2010-12-02 08:32:00|     2.55|   17850.0|United Kingdom|\n",
            "|   536600|    22411|JUMBO SHOPPER VIN...|       6|2010-12-02 08:32:00|     1.65|   17850.0|United Kingdom|\n",
            "|   536600|   84029G|KNITTED UNION FLA...|       6|2010-12-02 08:32:00|     3.39|   17850.0|United Kingdom|\n",
            "|   536600|   84029E|RED WOOLLY HOTTIE...|       6|2010-12-02 08:32:00|     3.39|   17850.0|United Kingdom|\n",
            "|   536600|    22752|SET 7 BABUSHKA NE...|       2|2010-12-02 08:32:00|     7.65|   17850.0|United Kingdom|\n",
            "+---------+---------+--------------------+--------+-------------------+---------+----------+--------------+\n",
            "only showing top 20 rows\n",
            "\n"
          ]
        }
      ]
    },
    {
      "cell_type": "code",
      "metadata": {
        "id": "jkmYwNzsioTg"
      },
      "source": [
        "person = spark.createDataFrame([\n",
        "(0, \"Bill Chambers\", 0, [100]),\n",
        "(1, \"Matei Zaharia\", 1, [500, 250, 100]),\n",
        "(2, \"Michael Armbrust\", 1, [250, 100])])\\\n",
        ".toDF(\"id\", \"name\", \"graduate_program\", \"spark_status\")\n",
        "\n",
        "graduateProgram = spark.createDataFrame([\n",
        "(0, \"Masters\", \"School of Information\", \"UC Berkeley\"),\n",
        "(2, \"Masters\", \"EECS\", \"UC Berkeley\"),\n",
        "(1, \"Ph.D.\", \"EECS\", \"UC Berkeley\")])\\\n",
        ".toDF(\"id\", \"degree\", \"department\", \"school\")\n",
        "\n",
        "sparkStatus = spark.createDataFrame([\n",
        "(500, \"Vice President\"),\n",
        "(250, \"PMC Member\"),\n",
        "(100, \"Contributor\")])\\\n",
        ".toDF(\"id\", \"status\")"
      ],
      "execution_count": 53,
      "outputs": []
    },
    {
      "cell_type": "code",
      "metadata": {
        "colab": {
          "base_uri": "https://localhost:8080/"
        },
        "id": "nW8BHr2IjU2c",
        "outputId": "7b1a027b-6b51-47d7-f0ad-e8be189de131"
      },
      "source": [
        "person.show()"
      ],
      "execution_count": 54,
      "outputs": [
        {
          "output_type": "stream",
          "name": "stdout",
          "text": [
            "+---+----------------+----------------+---------------+\n",
            "| id|            name|graduate_program|   spark_status|\n",
            "+---+----------------+----------------+---------------+\n",
            "|  0|   Bill Chambers|               0|          [100]|\n",
            "|  1|   Matei Zaharia|               1|[500, 250, 100]|\n",
            "|  2|Michael Armbrust|               1|     [250, 100]|\n",
            "+---+----------------+----------------+---------------+\n",
            "\n"
          ]
        }
      ]
    },
    {
      "cell_type": "code",
      "metadata": {
        "colab": {
          "base_uri": "https://localhost:8080/"
        },
        "id": "C-7hah39jb1o",
        "outputId": "77dcc688-cf87-420f-971e-77e94849ff5f"
      },
      "source": [
        "graduateProgram.show()"
      ],
      "execution_count": 55,
      "outputs": [
        {
          "output_type": "stream",
          "name": "stdout",
          "text": [
            "+---+-------+--------------------+-----------+\n",
            "| id| degree|          department|     school|\n",
            "+---+-------+--------------------+-----------+\n",
            "|  0|Masters|School of Informa...|UC Berkeley|\n",
            "|  2|Masters|                EECS|UC Berkeley|\n",
            "|  1|  Ph.D.|                EECS|UC Berkeley|\n",
            "+---+-------+--------------------+-----------+\n",
            "\n"
          ]
        }
      ]
    },
    {
      "cell_type": "code",
      "metadata": {
        "colab": {
          "base_uri": "https://localhost:8080/"
        },
        "id": "TFbtaUQrjeY9",
        "outputId": "c32bf708-cb51-46e4-c0f4-3da66dcc298c"
      },
      "source": [
        "sparkStatus.show()"
      ],
      "execution_count": 56,
      "outputs": [
        {
          "output_type": "stream",
          "name": "stdout",
          "text": [
            "+---+--------------+\n",
            "| id|        status|\n",
            "+---+--------------+\n",
            "|500|Vice President|\n",
            "|250|    PMC Member|\n",
            "|100|   Contributor|\n",
            "+---+--------------+\n",
            "\n"
          ]
        }
      ]
    },
    {
      "cell_type": "code",
      "metadata": {
        "colab": {
          "base_uri": "https://localhost:8080/"
        },
        "id": "ykH8G0x7jpVa",
        "outputId": "e0be2756-e497-4aef-aaa9-11921e73168a"
      },
      "source": [
        "person.join(graduateProgram, person[\"id\"] == graduateProgram['id'],'inner').show()"
      ],
      "execution_count": 57,
      "outputs": [
        {
          "output_type": "stream",
          "name": "stdout",
          "text": [
            "+---+----------------+----------------+---------------+---+-------+--------------------+-----------+\n",
            "| id|            name|graduate_program|   spark_status| id| degree|          department|     school|\n",
            "+---+----------------+----------------+---------------+---+-------+--------------------+-----------+\n",
            "|  0|   Bill Chambers|               0|          [100]|  0|Masters|School of Informa...|UC Berkeley|\n",
            "|  1|   Matei Zaharia|               1|[500, 250, 100]|  1|  Ph.D.|                EECS|UC Berkeley|\n",
            "|  2|Michael Armbrust|               1|     [250, 100]|  2|Masters|                EECS|UC Berkeley|\n",
            "+---+----------------+----------------+---------------+---+-------+--------------------+-----------+\n",
            "\n"
          ]
        }
      ]
    },
    {
      "cell_type": "code",
      "metadata": {
        "id": "xg762qDgvQy5"
      },
      "source": [
        "df11 = spark.createDataFrame([[1,'Navee','Srikanth','mba'], [2,None,'Srikanth','shsj'] ,[6,None,None,None], [3,'Naveen',None,None],[4,'Naveen','aba','bhsv'],[5,'Naveen',None,'bhsv']], ['ID','FirstName','LastName','course'])"
      ],
      "execution_count": 61,
      "outputs": []
    },
    {
      "cell_type": "code",
      "metadata": {
        "colab": {
          "base_uri": "https://localhost:8080/"
        },
        "id": "iGovSNxOzIM5",
        "outputId": "754344af-f54f-4151-87ff-9367c88bbbb0"
      },
      "source": [
        "df11.show()"
      ],
      "execution_count": 62,
      "outputs": [
        {
          "output_type": "stream",
          "name": "stdout",
          "text": [
            "+---+---------+--------+------+\n",
            "| ID|FirstName|LastName|course|\n",
            "+---+---------+--------+------+\n",
            "|  1|    Navee|Srikanth|   mba|\n",
            "|  2|     null|Srikanth|  shsj|\n",
            "|  6|     null|    null|  null|\n",
            "|  3|   Naveen|    null|  null|\n",
            "|  4|   Naveen|     aba|  bhsv|\n",
            "|  5|   Naveen|    null|  bhsv|\n",
            "+---+---------+--------+------+\n",
            "\n"
          ]
        }
      ]
    },
    {
      "cell_type": "code",
      "metadata": {
        "colab": {
          "base_uri": "https://localhost:8080/"
        },
        "id": "cXejFRaYzJnw",
        "outputId": "c59e67f5-19c8-481a-c97f-ed4e991b66f0"
      },
      "source": [
        "df11.describe().show(vertical = True)"
      ],
      "execution_count": 65,
      "outputs": [
        {
          "output_type": "stream",
          "name": "stdout",
          "text": [
            "-RECORD 0-----------------------\n",
            " summary   | count              \n",
            " ID        | 6                  \n",
            " FirstName | 4                  \n",
            " LastName  | 3                  \n",
            " course    | 4                  \n",
            "-RECORD 1-----------------------\n",
            " summary   | mean               \n",
            " ID        | 3.5                \n",
            " FirstName | null               \n",
            " LastName  | null               \n",
            " course    | null               \n",
            "-RECORD 2-----------------------\n",
            " summary   | stddev             \n",
            " ID        | 1.8708286933869707 \n",
            " FirstName | null               \n",
            " LastName  | null               \n",
            " course    | null               \n",
            "-RECORD 3-----------------------\n",
            " summary   | min                \n",
            " ID        | 1                  \n",
            " FirstName | Navee              \n",
            " LastName  | Srikanth           \n",
            " course    | bhsv               \n",
            "-RECORD 4-----------------------\n",
            " summary   | max                \n",
            " ID        | 6                  \n",
            " FirstName | Naveen             \n",
            " LastName  | aba                \n",
            " course    | shsj               \n",
            "\n"
          ]
        }
      ]
    },
    {
      "cell_type": "code",
      "metadata": {
        "colab": {
          "base_uri": "https://localhost:8080/"
        },
        "id": "SkZec3i7zPVq",
        "outputId": "2f6f25a9-8093-4b8a-855d-42757299ad20"
      },
      "source": [
        "dict_null = {col: df11.filter(df11[col].isNull()).count() for col in df11.columns}\n",
        "dict_null #to check null values"
      ],
      "execution_count": 66,
      "outputs": [
        {
          "output_type": "execute_result",
          "data": {
            "text/plain": [
              "{'FirstName': 2, 'ID': 0, 'LastName': 3, 'course': 2}"
            ]
          },
          "metadata": {},
          "execution_count": 66
        }
      ]
    },
    {
      "cell_type": "code",
      "metadata": {
        "colab": {
          "base_uri": "https://localhost:8080/"
        },
        "id": "fzQ-Hem5zjL6",
        "outputId": "927e079f-af88-4766-f8fe-ecdb089648ff"
      },
      "source": [
        "df11.na.drop().show()"
      ],
      "execution_count": 68,
      "outputs": [
        {
          "output_type": "stream",
          "name": "stdout",
          "text": [
            "+---+---------+--------+------+\n",
            "| ID|FirstName|LastName|course|\n",
            "+---+---------+--------+------+\n",
            "|  1|    Navee|Srikanth|   mba|\n",
            "|  4|   Naveen|     aba|  bhsv|\n",
            "+---+---------+--------+------+\n",
            "\n"
          ]
        }
      ]
    },
    {
      "cell_type": "code",
      "metadata": {
        "colab": {
          "base_uri": "https://localhost:8080/"
        },
        "id": "Puas6kmpzxa6",
        "outputId": "a43a5019-dc2f-452d-d4c4-57de3c147184"
      },
      "source": [
        "df11.na.drop(how = 'any').show() #for any kind of null values"
      ],
      "execution_count": 70,
      "outputs": [
        {
          "output_type": "stream",
          "name": "stdout",
          "text": [
            "+---+---------+--------+------+\n",
            "| ID|FirstName|LastName|course|\n",
            "+---+---------+--------+------+\n",
            "|  1|    Navee|Srikanth|   mba|\n",
            "|  4|   Naveen|     aba|  bhsv|\n",
            "+---+---------+--------+------+\n",
            "\n"
          ]
        }
      ]
    },
    {
      "cell_type": "code",
      "metadata": {
        "colab": {
          "base_uri": "https://localhost:8080/"
        },
        "id": "sr6uVK3gz5CG",
        "outputId": "af45c8c3-9955-423b-9be0-9b5920673e6a"
      },
      "source": [
        "df11.na.drop(how = 'any', thresh = 2).show()"
      ],
      "execution_count": 73,
      "outputs": [
        {
          "output_type": "stream",
          "name": "stdout",
          "text": [
            "+---+---------+--------+------+\n",
            "| ID|FirstName|LastName|course|\n",
            "+---+---------+--------+------+\n",
            "|  1|    Navee|Srikanth|   mba|\n",
            "|  2|     null|Srikanth|  shsj|\n",
            "|  3|   Naveen|    null|  null|\n",
            "|  4|   Naveen|     aba|  bhsv|\n",
            "|  5|   Naveen|    null|  bhsv|\n",
            "+---+---------+--------+------+\n",
            "\n"
          ]
        }
      ]
    },
    {
      "cell_type": "code",
      "metadata": {
        "colab": {
          "base_uri": "https://localhost:8080/"
        },
        "id": "xKR0lVtp0OBI",
        "outputId": "fbbe4c47-f89d-4d8f-8fc5-7bc39d2fd03c"
      },
      "source": [
        "df11.na.drop(how='any', subset=[\"FirstName\"]).show()"
      ],
      "execution_count": 74,
      "outputs": [
        {
          "output_type": "stream",
          "name": "stdout",
          "text": [
            "+---+---------+--------+------+\n",
            "| ID|FirstName|LastName|course|\n",
            "+---+---------+--------+------+\n",
            "|  1|    Navee|Srikanth|   mba|\n",
            "|  3|   Naveen|    null|  null|\n",
            "|  4|   Naveen|     aba|  bhsv|\n",
            "|  5|   Naveen|    null|  bhsv|\n",
            "+---+---------+--------+------+\n",
            "\n"
          ]
        }
      ]
    },
    {
      "cell_type": "code",
      "metadata": {
        "id": "xwb1TZ-R0kKK"
      },
      "source": [
        "df101 =spark.createDataFrame([(1, 'Peter', 1.79, 28,'M', 'Tiler'),\n",
        "                            (2, 'Fritz', 1.78, 45,'M', None),\n",
        "                            (3, 'Florence', 1.75, None, None, None),\n",
        "                            (4, 'Nicola',1.6, 33,'F', 'Dancer'),\n",
        "                            (5, 'Gregory', 1.8, 54,'M', 'Teacher'),\n",
        "                            (6, 'Steven', 1.82, None, 'M', None),\n",
        "                            (7, 'Dagmar', 1.7, 42,'F', 'Nurse'),]\n",
        "                           , ['id', 'Name', 'Height', 'Age', 'Gender', 'Occupation'])"
      ],
      "execution_count": 75,
      "outputs": []
    },
    {
      "cell_type": "code",
      "metadata": {
        "colab": {
          "base_uri": "https://localhost:8080/"
        },
        "id": "EGE4VVWL1Ap7",
        "outputId": "7ef2fdff-c4db-48fd-d00b-f4ae2e3d747b"
      },
      "source": [
        "df101.show()"
      ],
      "execution_count": 76,
      "outputs": [
        {
          "output_type": "stream",
          "name": "stdout",
          "text": [
            "+---+--------+------+----+------+----------+\n",
            "| id|    Name|Height| Age|Gender|Occupation|\n",
            "+---+--------+------+----+------+----------+\n",
            "|  1|   Peter|  1.79|  28|     M|     Tiler|\n",
            "|  2|   Fritz|  1.78|  45|     M|      null|\n",
            "|  3|Florence|  1.75|null|  null|      null|\n",
            "|  4|  Nicola|   1.6|  33|     F|    Dancer|\n",
            "|  5| Gregory|   1.8|  54|     M|   Teacher|\n",
            "|  6|  Steven|  1.82|null|     M|      null|\n",
            "|  7|  Dagmar|   1.7|  42|     F|     Nurse|\n",
            "+---+--------+------+----+------+----------+\n",
            "\n"
          ]
        }
      ]
    },
    {
      "cell_type": "code",
      "metadata": {
        "colab": {
          "base_uri": "https://localhost:8080/"
        },
        "id": "_cBicmT-1CPu",
        "outputId": "a6a1bdd2-6d83-43c5-a3c0-d2f49f22d86e"
      },
      "source": [
        "df101.na.drop(how = 'any',thresh = 2).show()"
      ],
      "execution_count": 81,
      "outputs": [
        {
          "output_type": "stream",
          "name": "stdout",
          "text": [
            "+---+--------+------+----+------+----------+\n",
            "| id|    Name|Height| Age|Gender|Occupation|\n",
            "+---+--------+------+----+------+----------+\n",
            "|  1|   Peter|  1.79|  28|     M|     Tiler|\n",
            "|  2|   Fritz|  1.78|  45|     M|      null|\n",
            "|  3|Florence|  1.75|null|  null|      null|\n",
            "|  4|  Nicola|   1.6|  33|     F|    Dancer|\n",
            "|  5| Gregory|   1.8|  54|     M|   Teacher|\n",
            "|  6|  Steven|  1.82|null|     M|      null|\n",
            "|  7|  Dagmar|   1.7|  42|     F|     Nurse|\n",
            "+---+--------+------+----+------+----------+\n",
            "\n"
          ]
        }
      ]
    },
    {
      "cell_type": "code",
      "metadata": {
        "colab": {
          "base_uri": "https://localhost:8080/"
        },
        "id": "Yfsmydx51I8q",
        "outputId": "7f15b34e-38d9-4c26-ba37-a3db42c0da1d"
      },
      "source": [
        "df11.na.fill({\"FirstName\": \"shrey\", \"LastName\" : \"soni\"}).show() #for multiple columns"
      ],
      "execution_count": 84,
      "outputs": [
        {
          "output_type": "stream",
          "name": "stdout",
          "text": [
            "+---+---------+--------+------+\n",
            "| ID|FirstName|LastName|course|\n",
            "+---+---------+--------+------+\n",
            "|  1|    Navee|Srikanth|   mba|\n",
            "|  2|    shrey|Srikanth|  shsj|\n",
            "|  6|    shrey|    soni|  null|\n",
            "|  3|   Naveen|    soni|  null|\n",
            "|  4|   Naveen|     aba|  bhsv|\n",
            "|  5|   Naveen|    soni|  bhsv|\n",
            "+---+---------+--------+------+\n",
            "\n"
          ]
        }
      ]
    },
    {
      "cell_type": "code",
      "metadata": {
        "colab": {
          "base_uri": "https://localhost:8080/"
        },
        "id": "d31BAfFg2mi6",
        "outputId": "6ec35d0f-8e71-4e47-b849-626e29965abb"
      },
      "source": [
        "df11.na.fill(value='soni',subset=[\"LastName\"]).show() # for one column"
      ],
      "execution_count": 85,
      "outputs": [
        {
          "output_type": "stream",
          "name": "stdout",
          "text": [
            "+---+---------+--------+------+\n",
            "| ID|FirstName|LastName|course|\n",
            "+---+---------+--------+------+\n",
            "|  1|    Navee|Srikanth|   mba|\n",
            "|  2|     null|Srikanth|  shsj|\n",
            "|  6|     null|    soni|  null|\n",
            "|  3|   Naveen|    soni|  null|\n",
            "|  4|   Naveen|     aba|  bhsv|\n",
            "|  5|   Naveen|    soni|  bhsv|\n",
            "+---+---------+--------+------+\n",
            "\n"
          ]
        }
      ]
    },
    {
      "cell_type": "code",
      "metadata": {
        "colab": {
          "base_uri": "https://localhost:8080/"
        },
        "id": "FuBMP8TK2y88",
        "outputId": "e8eecf9f-171f-46cd-b93a-a710ac81a0f0"
      },
      "source": [
        "### Filling the Missing Value\n",
        "df11.na.fill('Missing Values',[\"FirstName\", \"LastName\"]).show() # for multiple columns"
      ],
      "execution_count": 87,
      "outputs": [
        {
          "output_type": "stream",
          "name": "stdout",
          "text": [
            "+---+--------------+--------------+------+\n",
            "| ID|     FirstName|      LastName|course|\n",
            "+---+--------------+--------------+------+\n",
            "|  1|         Navee|      Srikanth|   mba|\n",
            "|  2|Missing Values|      Srikanth|  shsj|\n",
            "|  6|Missing Values|Missing Values|  null|\n",
            "|  3|        Naveen|Missing Values|  null|\n",
            "|  4|        Naveen|           aba|  bhsv|\n",
            "|  5|        Naveen|Missing Values|  bhsv|\n",
            "+---+--------------+--------------+------+\n",
            "\n"
          ]
        }
      ]
    },
    {
      "cell_type": "code",
      "metadata": {
        "id": "o_bbGFv-3l59"
      },
      "source": [
        ""
      ],
      "execution_count": null,
      "outputs": []
    }
  ]
}